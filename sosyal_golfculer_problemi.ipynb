{
  "nbformat": 4,
  "nbformat_minor": 0,
  "metadata": {
    "colab": {
      "provenance": []
    },
    "kernelspec": {
      "name": "python3",
      "display_name": "Python 3"
    },
    "language_info": {
      "name": "python"
    }
  },
  "cells": [
    {
      "cell_type": "code",
      "source": [
        "!pip install pycsp3"
      ],
      "metadata": {
        "colab": {
          "base_uri": "https://localhost:8080/"
        },
        "id": "UxGd_s8nuBjM",
        "outputId": "5c4953b3-f56c-41dd-dcd3-b224db64a037"
      },
      "execution_count": null,
      "outputs": [
        {
          "output_type": "stream",
          "name": "stdout",
          "text": [
            "Requirement already satisfied: pycsp3 in /usr/local/lib/python3.10/dist-packages (2.3.1)\n",
            "Requirement already satisfied: lxml in /usr/local/lib/python3.10/dist-packages (from pycsp3) (4.9.4)\n"
          ]
        }
      ]
    },
    {
      "cell_type": "code",
      "source": [
        "from pycsp3 import *"
      ],
      "metadata": {
        "id": "sGSzTnKKuG3b"
      },
      "execution_count": null,
      "outputs": []
    },
    {
      "cell_type": "code",
      "source": [
        "grup_sayisi = 2\n",
        "gruptaki_kisi_sayisi = 2\n",
        "hafta_sayisi = 3\n",
        "toplam_golf_oyuncusu = grup_sayisi *gruptaki_kisi_sayisi"
      ],
      "metadata": {
        "id": "0RMTQH5YuJTH"
      },
      "execution_count": null,
      "outputs": []
    },
    {
      "cell_type": "code",
      "source": [
        "y=VarArray(size=[hafta_sayisi, toplam_golf_oyuncusu], dom=range(grup_sayisi))"
      ],
      "metadata": {
        "id": "k2lkkdvjuMMe"
      },
      "execution_count": null,
      "outputs": []
    },
    {
      "cell_type": "code",
      "source": [
        "print(\"Array y: \", y)\n",
        "print(\"Değişkenlerin Domain'leri: \", y[0][0].dom)"
      ],
      "metadata": {
        "colab": {
          "base_uri": "https://localhost:8080/"
        },
        "id": "AXfq3eb4uMYh",
        "outputId": "226bbe6c-c754-46a5-c27e-e92eb6bae6bd"
      },
      "execution_count": null,
      "outputs": [
        {
          "output_type": "stream",
          "name": "stdout",
          "text": [
            "Array y:  [\n",
            "  [y[0][0], y[0][1], y[0][2], y[0][3]]\n",
            "  [y[1][0], y[1][1], y[1][2], y[1][3]]\n",
            "  [y[2][0], y[2][1], y[2][2], y[2][3]]\n",
            "]\n",
            "Değişkenlerin Domain'leri:  0 1\n"
          ]
        }
      ]
    },
    {
      "cell_type": "code",
      "source": [
        "satisfy(\n",
        "   # İki oyuncunun birden fazla kez oynamamasını sağlar\n",
        "   If(\n",
        "       y[w1][p1] == y[w1][p2],\n",
        "       Then=y[w2][p1] != y[w2][p2]\n",
        "   ) for w1, w2 in combinations(hafta_sayisi, 2) for p1, p2 in combinations(toplam_golf_oyuncusu, 2)\n",
        ");"
      ],
      "metadata": {
        "id": "YqZhFbK4uMbb"
      },
      "execution_count": null,
      "outputs": []
    },
    {
      "cell_type": "code",
      "source": [
        "print(posted()[:10])"
      ],
      "metadata": {
        "colab": {
          "base_uri": "https://localhost:8080/"
        },
        "id": "QBdN38_PuMeS",
        "outputId": "343511d1-60eb-479b-9f47-f78cf98aaa92"
      },
      "execution_count": null,
      "outputs": [
        {
          "output_type": "stream",
          "name": "stdout",
          "text": [
            "intension(function:imp(eq(y[0][0],y[0][1]),ne(y[1][0],y[1][1])))\n",
            "intension(function:imp(eq(y[0][0],y[0][2]),ne(y[1][0],y[1][2])))\n",
            "intension(function:imp(eq(y[0][0],y[0][3]),ne(y[1][0],y[1][3])))\n",
            "intension(function:imp(eq(y[0][1],y[0][2]),ne(y[1][1],y[1][2])))\n",
            "intension(function:imp(eq(y[0][1],y[0][3]),ne(y[1][1],y[1][3])))\n",
            "intension(function:imp(eq(y[0][2],y[0][3]),ne(y[1][2],y[1][3])))\n",
            "intension(function:imp(eq(y[0][0],y[0][1]),ne(y[2][0],y[2][1])))\n",
            "intension(function:imp(eq(y[0][0],y[0][2]),ne(y[2][0],y[2][2])))\n",
            "intension(function:imp(eq(y[0][0],y[0][3]),ne(y[2][0],y[2][3])))\n",
            "intension(function:imp(eq(y[0][1],y[0][2]),ne(y[2][1],y[2][2])))\n"
          ]
        }
      ]
    },
    {
      "cell_type": "code",
      "source": [
        "if solve() is SAT:\n",
        "    for w in range(hafta_sayisi):\n",
        "        print(\"Groups of week \", w , [[p for p in range(toplam_golf_oyuncusu) if y[w][p].value == g] for g in range(grup_sayisi)])"
      ],
      "metadata": {
        "colab": {
          "base_uri": "https://localhost:8080/"
        },
        "id": "GskmDGVeuLFN",
        "outputId": "87825ead-1b66-403a-890d-fb5462291fa5"
      },
      "execution_count": null,
      "outputs": [
        {
          "output_type": "stream",
          "name": "stdout",
          "text": [
            "Groups of week  0 [[0, 1], [2, 3]]\n",
            "Groups of week  1 [[0, 2], [1, 3]]\n",
            "Groups of week  2 [[0, 3], [1, 2]]\n"
          ]
        }
      ]
    },
    {
      "cell_type": "code",
      "source": [
        "satisfy(\n",
        "   Cardinality(y[w], occurrences={i: gruptaki_kisi_sayisi for i in range(grup_sayisi)}) for w in range(hafta_sayisi)\n",
        ");"
      ],
      "metadata": {
        "id": "55STcu0ovUdK"
      },
      "execution_count": null,
      "outputs": []
    },
    {
      "cell_type": "code",
      "source": [
        "print(posted(-1)[-1])"
      ],
      "metadata": {
        "colab": {
          "base_uri": "https://localhost:8080/"
        },
        "id": "n6OrEW61vUf1",
        "outputId": "f746eb06-050d-472a-fce6-47e993a21bf4"
      },
      "execution_count": null,
      "outputs": [
        {
          "output_type": "stream",
          "name": "stdout",
          "text": [
            "cardinality(list:[y[2][0], y[2][1], y[2][2], y[2][3]], values:[0, 1], occurs:[2, 2])\n"
          ]
        }
      ]
    },
    {
      "cell_type": "code",
      "source": [
        "satisfy(\n",
        "   # tag(symmetry-breaking)\n",
        "   LexIncreasing(y, matrix=True)\n",
        ");"
      ],
      "metadata": {
        "id": "mlVCJ6hzvUib"
      },
      "execution_count": null,
      "outputs": []
    },
    {
      "cell_type": "code",
      "source": [
        "if solve() is SAT:\n",
        "    print(values(y))"
      ],
      "metadata": {
        "colab": {
          "base_uri": "https://localhost:8080/"
        },
        "id": "6dfJrxMFvUne",
        "outputId": "f1d65cff-bdb7-4e74-e8cb-ae6e08b83a21"
      },
      "execution_count": null,
      "outputs": [
        {
          "output_type": "stream",
          "name": "stdout",
          "text": [
            "[\n",
            "  [0, 0, 1, 1]\n",
            "  [0, 1, 0, 1]\n",
            "  [0, 1, 1, 0]\n",
            "]\n"
          ]
        }
      ]
    },
    {
      "cell_type": "code",
      "source": [
        "if solve(sols=ALL) is SAT:\n",
        "    print(\"Number of solutions: \", n_solutions())"
      ],
      "metadata": {
        "colab": {
          "base_uri": "https://localhost:8080/"
        },
        "id": "G2DPi6PnvzAi",
        "outputId": "89d6916d-705f-45b1-e2a2-46ed3b220a07"
      },
      "execution_count": null,
      "outputs": [
        {
          "output_type": "stream",
          "name": "stdout",
          "text": [
            "Number of solutions:  2\n"
          ]
        }
      ]
    },
    {
      "cell_type": "code",
      "source": [],
      "metadata": {
        "id": "AFahQNaM4gYV"
      },
      "execution_count": null,
      "outputs": []
    }
  ]
}